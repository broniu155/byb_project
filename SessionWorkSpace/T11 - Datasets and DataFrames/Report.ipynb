{
 "cells": [
  {
   "cell_type": "code",
   "execution_count": 4,
   "metadata": {
    "id": "h0LVvvnfJsg5"
   },
   "outputs": [],
   "source": [
    "# Import pandas\n",
    "import pandas as pd"
   ]
  },
  {
   "cell_type": "code",
   "execution_count": 9,
   "metadata": {
    "id": "rv2oLRnPK36J"
   },
   "outputs": [],
   "source": [
    "# Create a DataFrame with balance.txt\n",
    "df = pd.read_csv('balance.txt', sep=' ')"
   ]
  },
  {
   "cell_type": "code",
   "execution_count": 11,
   "metadata": {},
   "outputs": [
    {
     "data": {
      "text/html": [
       "<div>\n",
       "<style scoped>\n",
       "    .dataframe tbody tr th:only-of-type {\n",
       "        vertical-align: middle;\n",
       "    }\n",
       "\n",
       "    .dataframe tbody tr th {\n",
       "        vertical-align: top;\n",
       "    }\n",
       "\n",
       "    .dataframe thead th {\n",
       "        text-align: right;\n",
       "    }\n",
       "</style>\n",
       "<table border=\"1\" class=\"dataframe\">\n",
       "  <thead>\n",
       "    <tr style=\"text-align: right;\">\n",
       "      <th></th>\n",
       "      <th>Balance</th>\n",
       "      <th>Income</th>\n",
       "      <th>Limit</th>\n",
       "      <th>Rating</th>\n",
       "      <th>Cards</th>\n",
       "      <th>Age</th>\n",
       "      <th>Education</th>\n",
       "      <th>Gender</th>\n",
       "      <th>Student</th>\n",
       "      <th>Married</th>\n",
       "      <th>Ethnicity</th>\n",
       "    </tr>\n",
       "  </thead>\n",
       "  <tbody>\n",
       "    <tr>\n",
       "      <th>0</th>\n",
       "      <td>12.240798</td>\n",
       "      <td>14.891</td>\n",
       "      <td>3606</td>\n",
       "      <td>283</td>\n",
       "      <td>2</td>\n",
       "      <td>34</td>\n",
       "      <td>11</td>\n",
       "      <td>Male</td>\n",
       "      <td>No</td>\n",
       "      <td>Yes</td>\n",
       "      <td>Caucasian</td>\n",
       "    </tr>\n",
       "    <tr>\n",
       "      <th>1</th>\n",
       "      <td>23.283334</td>\n",
       "      <td>106.025</td>\n",
       "      <td>6645</td>\n",
       "      <td>483</td>\n",
       "      <td>3</td>\n",
       "      <td>82</td>\n",
       "      <td>15</td>\n",
       "      <td>Female</td>\n",
       "      <td>Yes</td>\n",
       "      <td>Yes</td>\n",
       "      <td>Asian</td>\n",
       "    </tr>\n",
       "    <tr>\n",
       "      <th>2</th>\n",
       "      <td>22.530409</td>\n",
       "      <td>104.593</td>\n",
       "      <td>7075</td>\n",
       "      <td>514</td>\n",
       "      <td>4</td>\n",
       "      <td>71</td>\n",
       "      <td>11</td>\n",
       "      <td>Male</td>\n",
       "      <td>No</td>\n",
       "      <td>No</td>\n",
       "      <td>Asian</td>\n",
       "    </tr>\n",
       "    <tr>\n",
       "      <th>3</th>\n",
       "      <td>27.652811</td>\n",
       "      <td>148.924</td>\n",
       "      <td>9504</td>\n",
       "      <td>681</td>\n",
       "      <td>3</td>\n",
       "      <td>36</td>\n",
       "      <td>11</td>\n",
       "      <td>Female</td>\n",
       "      <td>No</td>\n",
       "      <td>No</td>\n",
       "      <td>Asian</td>\n",
       "    </tr>\n",
       "    <tr>\n",
       "      <th>4</th>\n",
       "      <td>16.893978</td>\n",
       "      <td>55.882</td>\n",
       "      <td>4897</td>\n",
       "      <td>357</td>\n",
       "      <td>2</td>\n",
       "      <td>68</td>\n",
       "      <td>16</td>\n",
       "      <td>Male</td>\n",
       "      <td>No</td>\n",
       "      <td>Yes</td>\n",
       "      <td>Caucasian</td>\n",
       "    </tr>\n",
       "  </tbody>\n",
       "</table>\n",
       "</div>"
      ],
      "text/plain": [
       "     Balance   Income  Limit  Rating  Cards  Age  Education  Gender Student  \\\n",
       "0  12.240798   14.891   3606     283      2   34         11    Male      No   \n",
       "1  23.283334  106.025   6645     483      3   82         15  Female     Yes   \n",
       "2  22.530409  104.593   7075     514      4   71         11    Male      No   \n",
       "3  27.652811  148.924   9504     681      3   36         11  Female      No   \n",
       "4  16.893978   55.882   4897     357      2   68         16    Male      No   \n",
       "\n",
       "  Married  Ethnicity  \n",
       "0     Yes  Caucasian  \n",
       "1     Yes      Asian  \n",
       "2      No      Asian  \n",
       "3      No      Asian  \n",
       "4     Yes  Caucasian  "
      ]
     },
     "execution_count": 11,
     "metadata": {},
     "output_type": "execute_result"
    }
   ],
   "source": [
    "df.head()"
   ]
  },
  {
   "cell_type": "code",
   "execution_count": 41,
   "metadata": {},
   "outputs": [
    {
     "name": "stdout",
     "output_type": "stream",
     "text": [
      "Average income for each ethnicity:\n",
      "Ethnicity\n",
      "African American    47.68\n",
      "Asian               44.19\n",
      "Caucasian           44.52\n",
      "Name: Income, dtype: float64\n"
     ]
    }
   ],
   "source": [
    "#Compare the average income based on ethnicity\n",
    "Avg = df.groupby(\"Ethnicity\")[\"Income\"].mean()\n",
    "print(f\"Average income for each ethnicity:\\n{round(Avg, 2)}\")"
   ]
  },
  {
   "cell_type": "code",
   "execution_count": 62,
   "metadata": {},
   "outputs": [
    {
     "name": "stdout",
     "output_type": "stream",
     "text": [
      "Higher balance on average has Single with an average 13.49\n"
     ]
    }
   ],
   "source": [
    "# On average, do married or single people have a higher balance?\n",
    "#Check the balanace value for each groups\n",
    "single_avg = df[df.Married == \"No\"].loc[:,\"Balance\"].mean()\n",
    "married_avg = df[df.Married == \"Yes\"].loc[:,\"Balance\"].mean()\n",
    "\n",
    "#if condition to print out correct values\n",
    "if single_avg > married_avg:\n",
    "    print(f\"Higher balance on average has Single with an average {round(single_avg,2)}\")\n",
    "elif single_avg == married_avg:\n",
    "    print(f\"Both have a sime balance: {round(single_avg,2)}\")\n",
    "else:\n",
    "    print(f\"Higher balance on average has Married with an average {round(married_avg,2)}\")\n",
    "\n",
    "\n"
   ]
  },
  {
   "cell_type": "code",
   "execution_count": 72,
   "metadata": {},
   "outputs": [
    {
     "name": "stdout",
     "output_type": "stream",
     "text": [
      "The highest income in our dataset is 186.63\n"
     ]
    },
    {
     "data": {
      "text/html": [
       "<div>\n",
       "<style scoped>\n",
       "    .dataframe tbody tr th:only-of-type {\n",
       "        vertical-align: middle;\n",
       "    }\n",
       "\n",
       "    .dataframe tbody tr th {\n",
       "        vertical-align: top;\n",
       "    }\n",
       "\n",
       "    .dataframe thead th {\n",
       "        text-align: right;\n",
       "    }\n",
       "</style>\n",
       "<table border=\"1\" class=\"dataframe\">\n",
       "  <thead>\n",
       "    <tr style=\"text-align: right;\">\n",
       "      <th></th>\n",
       "      <th>Balance</th>\n",
       "      <th>Income</th>\n",
       "      <th>Limit</th>\n",
       "      <th>Rating</th>\n",
       "      <th>Cards</th>\n",
       "      <th>Age</th>\n",
       "      <th>Education</th>\n",
       "      <th>Gender</th>\n",
       "      <th>Student</th>\n",
       "      <th>Married</th>\n",
       "      <th>Ethnicity</th>\n",
       "    </tr>\n",
       "  </thead>\n",
       "  <tbody>\n",
       "    <tr>\n",
       "      <th>28</th>\n",
       "      <td>35.271011</td>\n",
       "      <td>186.634</td>\n",
       "      <td>13414</td>\n",
       "      <td>949</td>\n",
       "      <td>2</td>\n",
       "      <td>41</td>\n",
       "      <td>14</td>\n",
       "      <td>Female</td>\n",
       "      <td>No</td>\n",
       "      <td>Yes</td>\n",
       "      <td>African American</td>\n",
       "    </tr>\n",
       "  </tbody>\n",
       "</table>\n",
       "</div>"
      ],
      "text/plain": [
       "      Balance   Income  Limit  Rating  Cards  Age  Education  Gender Student  \\\n",
       "28  35.271011  186.634  13414     949      2   41         14  Female      No   \n",
       "\n",
       "   Married         Ethnicity  \n",
       "28     Yes  African American  "
      ]
     },
     "execution_count": 72,
     "metadata": {},
     "output_type": "execute_result"
    }
   ],
   "source": [
    "# What is the highest income in our dataset?\n",
    "\n",
    "print(\"The highest income in our dataset is\", round(df.loc[:, \"Income\"].max(),2))\n",
    "\n",
    "# Indicating the data of the whole record that has highest income\n",
    "df[df.Income == df.loc[:, \"Income\"].max()]"
   ]
  },
  {
   "cell_type": "code",
   "execution_count": 71,
   "metadata": {},
   "outputs": [
    {
     "name": "stdout",
     "output_type": "stream",
     "text": [
      "The highest income in our dataset is 10.35\n"
     ]
    },
    {
     "data": {
      "text/html": [
       "<div>\n",
       "<style scoped>\n",
       "    .dataframe tbody tr th:only-of-type {\n",
       "        vertical-align: middle;\n",
       "    }\n",
       "\n",
       "    .dataframe tbody tr th {\n",
       "        vertical-align: top;\n",
       "    }\n",
       "\n",
       "    .dataframe thead th {\n",
       "        text-align: right;\n",
       "    }\n",
       "</style>\n",
       "<table border=\"1\" class=\"dataframe\">\n",
       "  <thead>\n",
       "    <tr style=\"text-align: right;\">\n",
       "      <th></th>\n",
       "      <th>Balance</th>\n",
       "      <th>Income</th>\n",
       "      <th>Limit</th>\n",
       "      <th>Rating</th>\n",
       "      <th>Cards</th>\n",
       "      <th>Age</th>\n",
       "      <th>Education</th>\n",
       "      <th>Gender</th>\n",
       "      <th>Student</th>\n",
       "      <th>Married</th>\n",
       "      <th>Ethnicity</th>\n",
       "    </tr>\n",
       "  </thead>\n",
       "  <tbody>\n",
       "    <tr>\n",
       "      <th>58</th>\n",
       "      <td>9.180797</td>\n",
       "      <td>10.354</td>\n",
       "      <td>3480</td>\n",
       "      <td>281</td>\n",
       "      <td>2</td>\n",
       "      <td>70</td>\n",
       "      <td>17</td>\n",
       "      <td>Male</td>\n",
       "      <td>No</td>\n",
       "      <td>Yes</td>\n",
       "      <td>Caucasian</td>\n",
       "    </tr>\n",
       "  </tbody>\n",
       "</table>\n",
       "</div>"
      ],
      "text/plain": [
       "     Balance  Income  Limit  Rating  Cards  Age  Education Gender Student  \\\n",
       "58  9.180797  10.354   3480     281      2   70         17   Male      No   \n",
       "\n",
       "   Married  Ethnicity  \n",
       "58     Yes  Caucasian  "
      ]
     },
     "execution_count": 71,
     "metadata": {},
     "output_type": "execute_result"
    }
   ],
   "source": [
    "# What is the lowest income in our dataset?\n",
    "\n",
    "print(\"The highest income in our dataset is\", round(df.loc[:, \"Income\"].min(),2))\n",
    "\n",
    "# Indicating the data of the whole record that has lowest income\n",
    "df[df.Income == df.loc[:, \"Income\"].min()]"
   ]
  },
  {
   "cell_type": "code",
   "execution_count": 82,
   "metadata": {},
   "outputs": [
    {
     "name": "stdout",
     "output_type": "stream",
     "text": [
      "The sum of all cards recorded in the data set is: 1183\n"
     ]
    }
   ],
   "source": [
    "# How many cards do we have recorded in our dataset?\n",
    "\n",
    "print(\"The sum of all cards recorded in the data set is:\", df.loc[:,\"Cards\"].sum())"
   ]
  },
  {
   "cell_type": "code",
   "execution_count": 92,
   "metadata": {},
   "outputs": [
    {
     "name": "stdout",
     "output_type": "stream",
     "text": [
      "Information of Male vs Female:\n",
      " 193 vs 207\n"
     ]
    }
   ],
   "source": [
    "# How many females do we have information for vs how many males?\n",
    "\n",
    "#Define the variables to count Female and Male records\n",
    "male_count  = df[df.Gender == \"Male\"].loc[:,\"Gender\"].count()\n",
    "female_count =df[df.Gender == \"Female\"].loc[:,\"Gender\"].count()\n",
    "\n",
    "#Print the output of the vs\n",
    "print(f\"Information of Male vs Female:\\n {male_count} vs {female_count}\")\n"
   ]
  },
  {
   "cell_type": "markdown",
   "metadata": {
    "id": "_LXpBJXZLYoh"
   },
   "source": [
    "Write the code needed to produce a report that provides the following information:\n",
    "* Compare the average income based on ethnicity.\n",
    "* On average, do married or single people have a higher balance?\n",
    "* What is the highest income in our dataset?\n",
    "* What is the lowest income in our dataset?\n",
    "* How many cards do we have recorded in our dataset? (Hint: use `sum()`)\n",
    "* How many females do we have information for vs how many males? (Hint: use `count()` for a list of all methods for computation of descriptive stats, explore the [pandas documentation](https://pandas.pydata.org/pandas-docs/stable/reference/frame.html#computations-descriptive-stats)).\n",
    "\n",
    "\n"
   ]
  }
 ],
 "metadata": {
  "colab": {
   "provenance": []
  },
  "kernelspec": {
   "display_name": "Python 3 (ipykernel)",
   "language": "python",
   "name": "python3"
  },
  "language_info": {
   "codemirror_mode": {
    "name": "ipython",
    "version": 3
   },
   "file_extension": ".py",
   "mimetype": "text/x-python",
   "name": "python",
   "nbconvert_exporter": "python",
   "pygments_lexer": "ipython3",
   "version": "3.12.0"
  }
 },
 "nbformat": 4,
 "nbformat_minor": 4
}
