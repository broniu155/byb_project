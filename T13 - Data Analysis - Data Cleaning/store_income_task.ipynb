{
 "cells": [
  {
   "cell_type": "markdown",
   "metadata": {
    "id": "lqt_yzRy16Wj"
   },
   "source": [
    "## Task\n",
    "\n",
    "In this compulsory task you will clean the country column and parse the date column in the **store_income_data_task.csv** file."
   ]
  },
  {
   "cell_type": "code",
   "execution_count": 1,
   "metadata": {},
   "outputs": [],
   "source": [
    "# import all necessary libraries\n",
    "import pandas as pd\n",
    "import numpy as np"
   ]
  },
  {
   "cell_type": "code",
   "execution_count": 2,
   "metadata": {
    "id": "vBP3WN2O16Wp"
   },
   "outputs": [],
   "source": [
    "# Load up store_income_data.csv\n",
    "df_income = pd.read_table('store_income_data_task.csv', sep=',')\n",
    "\n"
   ]
  },
  {
   "cell_type": "markdown",
   "metadata": {
    "id": "ItqLwumA16Wr"
   },
   "source": [
    "1. Take a look at all the unique values in the \"country\" column. Then, convert the column to lowercase and remove any trailing white spaces."
   ]
  },
  {
   "cell_type": "code",
   "execution_count": 3,
   "metadata": {},
   "outputs": [
    {
     "data": {
      "text/html": [
       "<div>\n",
       "<style scoped>\n",
       "    .dataframe tbody tr th:only-of-type {\n",
       "        vertical-align: middle;\n",
       "    }\n",
       "\n",
       "    .dataframe tbody tr th {\n",
       "        vertical-align: top;\n",
       "    }\n",
       "\n",
       "    .dataframe thead th {\n",
       "        text-align: right;\n",
       "    }\n",
       "</style>\n",
       "<table border=\"1\" class=\"dataframe\">\n",
       "  <thead>\n",
       "    <tr style=\"text-align: right;\">\n",
       "      <th></th>\n",
       "      <th>id</th>\n",
       "      <th>store_name</th>\n",
       "      <th>store_email</th>\n",
       "      <th>department</th>\n",
       "      <th>income</th>\n",
       "      <th>date_measured</th>\n",
       "      <th>country</th>\n",
       "    </tr>\n",
       "  </thead>\n",
       "  <tbody>\n",
       "    <tr>\n",
       "      <th>0</th>\n",
       "      <td>1</td>\n",
       "      <td>Cullen/Frost Bankers, Inc.</td>\n",
       "      <td>NaN</td>\n",
       "      <td>Clothing</td>\n",
       "      <td>$54438554.24</td>\n",
       "      <td>4-2-2006</td>\n",
       "      <td>United States/</td>\n",
       "    </tr>\n",
       "    <tr>\n",
       "      <th>1</th>\n",
       "      <td>2</td>\n",
       "      <td>Nordson Corporation</td>\n",
       "      <td>NaN</td>\n",
       "      <td>Tools</td>\n",
       "      <td>$41744177.01</td>\n",
       "      <td>4-1-2006</td>\n",
       "      <td>Britain</td>\n",
       "    </tr>\n",
       "    <tr>\n",
       "      <th>2</th>\n",
       "      <td>3</td>\n",
       "      <td>Stag Industrial, Inc.</td>\n",
       "      <td>NaN</td>\n",
       "      <td>Beauty</td>\n",
       "      <td>$36152340.34</td>\n",
       "      <td>12-9-2003</td>\n",
       "      <td>United States</td>\n",
       "    </tr>\n",
       "    <tr>\n",
       "      <th>3</th>\n",
       "      <td>4</td>\n",
       "      <td>FIRST REPUBLIC BANK</td>\n",
       "      <td>ecanadine3@fc2.com</td>\n",
       "      <td>Automotive</td>\n",
       "      <td>$8928350.04</td>\n",
       "      <td>8-5-2006</td>\n",
       "      <td>Britain/</td>\n",
       "    </tr>\n",
       "    <tr>\n",
       "      <th>4</th>\n",
       "      <td>5</td>\n",
       "      <td>Mercantile Bank Corporation</td>\n",
       "      <td>NaN</td>\n",
       "      <td>Baby</td>\n",
       "      <td>$33552742.32</td>\n",
       "      <td>21-1-1973</td>\n",
       "      <td>United Kingdom</td>\n",
       "    </tr>\n",
       "    <tr>\n",
       "      <th>...</th>\n",
       "      <td>...</td>\n",
       "      <td>...</td>\n",
       "      <td>...</td>\n",
       "      <td>...</td>\n",
       "      <td>...</td>\n",
       "      <td>...</td>\n",
       "      <td>...</td>\n",
       "    </tr>\n",
       "    <tr>\n",
       "      <th>995</th>\n",
       "      <td>996</td>\n",
       "      <td>Columbia Sportswear Company</td>\n",
       "      <td>cschooleyrn@sohu.com</td>\n",
       "      <td>Automotive</td>\n",
       "      <td>$52593924.99</td>\n",
       "      <td>7-10-2005</td>\n",
       "      <td>S. AfricaSouth Africa/</td>\n",
       "    </tr>\n",
       "    <tr>\n",
       "      <th>996</th>\n",
       "      <td>997</td>\n",
       "      <td>WisdomTree Interest Rate Hedged High Yield Bon...</td>\n",
       "      <td>NaN</td>\n",
       "      <td>Electronics</td>\n",
       "      <td>$60473676.46</td>\n",
       "      <td>19-12-1990</td>\n",
       "      <td>United States</td>\n",
       "    </tr>\n",
       "    <tr>\n",
       "      <th>997</th>\n",
       "      <td>998</td>\n",
       "      <td>Tortoise Energy Infrastructure Corporation</td>\n",
       "      <td>cbeardshallrp@ow.ly</td>\n",
       "      <td>Health</td>\n",
       "      <td>$1697293.64</td>\n",
       "      <td>25-4-2009</td>\n",
       "      <td>UNITED STATES OF AMERICA</td>\n",
       "    </tr>\n",
       "    <tr>\n",
       "      <th>998</th>\n",
       "      <td>999</td>\n",
       "      <td>Qwest Corporation</td>\n",
       "      <td>NaN</td>\n",
       "      <td>Beauty</td>\n",
       "      <td>$30091863.73</td>\n",
       "      <td>13-1-2011</td>\n",
       "      <td>England</td>\n",
       "    </tr>\n",
       "    <tr>\n",
       "      <th>999</th>\n",
       "      <td>1000</td>\n",
       "      <td>SLM Corporation</td>\n",
       "      <td>NaN</td>\n",
       "      <td>Kids</td>\n",
       "      <td>$66106336.48</td>\n",
       "      <td>1-12-2011</td>\n",
       "      <td>united kingdom</td>\n",
       "    </tr>\n",
       "  </tbody>\n",
       "</table>\n",
       "<p>1000 rows × 7 columns</p>\n",
       "</div>"
      ],
      "text/plain": [
       "       id                                         store_name  \\\n",
       "0       1                         Cullen/Frost Bankers, Inc.   \n",
       "1       2                                Nordson Corporation   \n",
       "2       3                              Stag Industrial, Inc.   \n",
       "3       4                                FIRST REPUBLIC BANK   \n",
       "4       5                        Mercantile Bank Corporation   \n",
       "..    ...                                                ...   \n",
       "995   996                        Columbia Sportswear Company   \n",
       "996   997  WisdomTree Interest Rate Hedged High Yield Bon...   \n",
       "997   998         Tortoise Energy Infrastructure Corporation   \n",
       "998   999                                  Qwest Corporation   \n",
       "999  1000                                    SLM Corporation   \n",
       "\n",
       "              store_email   department        income date_measured  \\\n",
       "0                     NaN     Clothing  $54438554.24      4-2-2006   \n",
       "1                     NaN        Tools  $41744177.01      4-1-2006   \n",
       "2                     NaN       Beauty  $36152340.34     12-9-2003   \n",
       "3      ecanadine3@fc2.com   Automotive   $8928350.04      8-5-2006   \n",
       "4                     NaN         Baby  $33552742.32     21-1-1973   \n",
       "..                    ...          ...           ...           ...   \n",
       "995  cschooleyrn@sohu.com   Automotive  $52593924.99     7-10-2005   \n",
       "996                   NaN  Electronics  $60473676.46    19-12-1990   \n",
       "997   cbeardshallrp@ow.ly       Health   $1697293.64     25-4-2009   \n",
       "998                   NaN       Beauty  $30091863.73     13-1-2011   \n",
       "999                   NaN         Kids  $66106336.48     1-12-2011   \n",
       "\n",
       "                      country  \n",
       "0              United States/  \n",
       "1                     Britain  \n",
       "2               United States  \n",
       "3                    Britain/  \n",
       "4              United Kingdom  \n",
       "..                        ...  \n",
       "995    S. AfricaSouth Africa/  \n",
       "996             United States  \n",
       "997  UNITED STATES OF AMERICA  \n",
       "998                   England  \n",
       "999            united kingdom  \n",
       "\n",
       "[1000 rows x 7 columns]"
      ]
     },
     "execution_count": 3,
     "metadata": {},
     "output_type": "execute_result"
    }
   ],
   "source": [
    "#Review the example of the data\n",
    "df_income.head()\n",
    "df_income.iloc[:]"
   ]
  },
  {
   "cell_type": "code",
   "execution_count": 4,
   "metadata": {
    "id": "sLkzt4Hr16Wr"
   },
   "outputs": [
    {
     "name": "stdout",
     "output_type": "stream",
     "text": [
      "Number of unique countries: 77\n"
     ]
    },
    {
     "data": {
      "text/plain": [
       "array(['United States/', 'Britain', ' United States', 'Britain/',\n",
       "       ' United Kingdom', 'U.K.', 'SA ', 'U.K/', 'America',\n",
       "       'United Kingdom', nan, 'united states', ' S.A.', 'England ', 'UK',\n",
       "       'S.A./', 'ENGLAND', 'BRITAIN', 'U.K', 'U.K ', 'America/', 'SA.',\n",
       "       'S.A. ', 'u.k', 'uk', ' ', 'UK.', 'England/', 'england',\n",
       "       ' Britain', 'united states of america', 'UK/', 'SA/', 'SA',\n",
       "       'England.', 'UNITED KINGDOM', 'America.', 'S.A..', 's.a.', ' U.K',\n",
       "       ' United States of America', 'Britain ', 'England', ' SA',\n",
       "       'United States of America.', 'United States of America/',\n",
       "       'United States.', 's. africasouth africa', ' England',\n",
       "       'United Kingdom ', 'United States of America ', ' UK',\n",
       "       'united kingdom', 'AMERICA', 'America ',\n",
       "       'UNITED STATES OF AMERICA', ' S. AfricaSouth Africa', 'america',\n",
       "       'S. AFRICASOUTH AFRICA', 'Britain.', '/', 'United Kingdom.',\n",
       "       'United States', ' America', 'UNITED STATES', 'sa',\n",
       "       'United States of America', 'UK ', 'United States ',\n",
       "       'S. AfricaSouth Africa/', 'S.A.', 'United Kingdom/',\n",
       "       'S. AfricaSouth Africa ', 'S. AfricaSouth Africa.',\n",
       "       'S. AfricaSouth Africa', '.', 'britain'], dtype=object)"
      ]
     },
     "execution_count": 4,
     "metadata": {},
     "output_type": "execute_result"
    }
   ],
   "source": [
    "#Check numbers of unique country records\n",
    "country_unique = df_income[\"country\"].unique()\n",
    "print(f\"Number of unique countries: {len(country_unique)}\")\n",
    "country_unique"
   ]
  },
  {
   "cell_type": "code",
   "execution_count": 5,
   "metadata": {},
   "outputs": [
    {
     "name": "stdout",
     "output_type": "stream",
     "text": [
      "Number of unique countries: 11\n"
     ]
    },
    {
     "data": {
      "text/plain": [
       "array(['united states', 'britain', 'united kingdom', 'uk', 'sa',\n",
       "       'america', nan, 'england', '', 'united states of america',\n",
       "       's africasouth africa'], dtype=object)"
      ]
     },
     "execution_count": 5,
     "metadata": {},
     "output_type": "execute_result"
    }
   ],
   "source": [
    "#Convert to lowercase\n",
    "df_income[\"country\"] = df_income[\"country\"].str.lower()\n",
    "\n",
    "#Remove characters that are not alphabetical \n",
    "df_income[\"country\"] = df_income[\"country\"].str.replace('[^a-zA-Z ]', '', regex=True)\n",
    "\n",
    "#Remove trailing space\n",
    "df_income[\"country\"] = df_income[\"country\"].str.strip()\n",
    "\n",
    "#Re-check the values\n",
    "country_unique = df_income[\"country\"].unique()\n",
    "print(f\"Number of unique countries: {len(country_unique)}\")\n",
    "country_unique\n"
   ]
  },
  {
   "cell_type": "markdown",
   "metadata": {
    "id": "P6dcDc4P16Ws"
   },
   "source": [
    "2. Note that there should only be three separate countries. Eliminate all variations, so that 'South Africa', 'United Kingdom' and 'United States' are the only three countries."
   ]
  },
  {
   "cell_type": "code",
   "execution_count": 6,
   "metadata": {},
   "outputs": [],
   "source": [
    "# Replace abriviations and less unique inputs\n",
    "df_income.replace('uk', 'united kingdom', inplace=True)\n",
    "df_income.replace('britain', 'united kingdom', inplace=True)\n",
    "df_income.replace('england', 'united kingdom', inplace=True)\n",
    "df_income.replace('sa', 'south africa', inplace=True)\n",
    "df_income.replace('united states of america', 'united states', inplace=True)\n",
    "df_income.replace('america', 'united states', inplace=True)\n",
    "df_income.replace('s africasouth africa', 'south africa', inplace=True)\n",
    "df_income['country'] = df_income['country'].replace('', 'Unknown')  # Replace empty strings\n",
    "df_income['country'] = df_income['country'].fillna('Unknown') # replace nan"
   ]
  },
  {
   "cell_type": "code",
   "execution_count": 7,
   "metadata": {
    "id": "qeV3CxMR16Ws"
   },
   "outputs": [
    {
     "name": "stdout",
     "output_type": "stream",
     "text": [
      "Number of unique countries: 4\n"
     ]
    },
    {
     "data": {
      "text/plain": [
       "array(['united states', 'united kingdom', 'south africa', 'Unknown'],\n",
       "      dtype=object)"
      ]
     },
     "execution_count": 7,
     "metadata": {},
     "output_type": "execute_result"
    }
   ],
   "source": [
    "#Re-check the values\n",
    "country_unique = df_income[\"country\"].unique()\n",
    "print(f\"Number of unique countries: {len(country_unique)}\")\n",
    "country_unique"
   ]
  },
  {
   "cell_type": "markdown",
   "metadata": {
    "id": "UJZDMTwP16Ws"
   },
   "source": [
    "3. Create a new column called `days_ago` in the DataFrame that is a copy of the 'date_measured' column but instead it is a number that shows how many days ago it was measured from the current date. Note that the current date can be obtained using `datetime.date.today()`."
   ]
  },
  {
   "cell_type": "code",
   "execution_count": 13,
   "metadata": {
    "id": "gMJbN84P16Wt"
   },
   "outputs": [
    {
     "data": {
      "text/html": [
       "<div>\n",
       "<style scoped>\n",
       "    .dataframe tbody tr th:only-of-type {\n",
       "        vertical-align: middle;\n",
       "    }\n",
       "\n",
       "    .dataframe tbody tr th {\n",
       "        vertical-align: top;\n",
       "    }\n",
       "\n",
       "    .dataframe thead th {\n",
       "        text-align: right;\n",
       "    }\n",
       "</style>\n",
       "<table border=\"1\" class=\"dataframe\">\n",
       "  <thead>\n",
       "    <tr style=\"text-align: right;\">\n",
       "      <th></th>\n",
       "      <th>id</th>\n",
       "      <th>store_name</th>\n",
       "      <th>store_email</th>\n",
       "      <th>department</th>\n",
       "      <th>income</th>\n",
       "      <th>date_measured</th>\n",
       "      <th>country</th>\n",
       "      <th>days_ago</th>\n",
       "    </tr>\n",
       "  </thead>\n",
       "  <tbody>\n",
       "    <tr>\n",
       "      <th>0</th>\n",
       "      <td>1</td>\n",
       "      <td>Cullen/Frost Bankers, Inc.</td>\n",
       "      <td>NaN</td>\n",
       "      <td>Clothing</td>\n",
       "      <td>$54438554.24</td>\n",
       "      <td>2006-02-04</td>\n",
       "      <td>united states</td>\n",
       "      <td>6637</td>\n",
       "    </tr>\n",
       "    <tr>\n",
       "      <th>1</th>\n",
       "      <td>2</td>\n",
       "      <td>Nordson Corporation</td>\n",
       "      <td>NaN</td>\n",
       "      <td>Tools</td>\n",
       "      <td>$41744177.01</td>\n",
       "      <td>2006-01-04</td>\n",
       "      <td>united kingdom</td>\n",
       "      <td>6668</td>\n",
       "    </tr>\n",
       "    <tr>\n",
       "      <th>2</th>\n",
       "      <td>3</td>\n",
       "      <td>Stag Industrial, Inc.</td>\n",
       "      <td>NaN</td>\n",
       "      <td>Beauty</td>\n",
       "      <td>$36152340.34</td>\n",
       "      <td>2003-09-12</td>\n",
       "      <td>united states</td>\n",
       "      <td>7513</td>\n",
       "    </tr>\n",
       "    <tr>\n",
       "      <th>3</th>\n",
       "      <td>4</td>\n",
       "      <td>FIRST REPUBLIC BANK</td>\n",
       "      <td>ecanadine3@fc2.com</td>\n",
       "      <td>Automotive</td>\n",
       "      <td>$8928350.04</td>\n",
       "      <td>2006-05-08</td>\n",
       "      <td>united kingdom</td>\n",
       "      <td>6544</td>\n",
       "    </tr>\n",
       "    <tr>\n",
       "      <th>4</th>\n",
       "      <td>5</td>\n",
       "      <td>Mercantile Bank Corporation</td>\n",
       "      <td>NaN</td>\n",
       "      <td>Baby</td>\n",
       "      <td>$33552742.32</td>\n",
       "      <td>1973-01-21</td>\n",
       "      <td>united kingdom</td>\n",
       "      <td>18704</td>\n",
       "    </tr>\n",
       "  </tbody>\n",
       "</table>\n",
       "</div>"
      ],
      "text/plain": [
       "   id                   store_name         store_email  department  \\\n",
       "0   1   Cullen/Frost Bankers, Inc.                 NaN    Clothing   \n",
       "1   2          Nordson Corporation                 NaN       Tools   \n",
       "2   3        Stag Industrial, Inc.                 NaN      Beauty   \n",
       "3   4          FIRST REPUBLIC BANK  ecanadine3@fc2.com  Automotive   \n",
       "4   5  Mercantile Bank Corporation                 NaN        Baby   \n",
       "\n",
       "         income date_measured         country  days_ago  \n",
       "0  $54438554.24    2006-02-04   united states      6637  \n",
       "1  $41744177.01    2006-01-04  united kingdom      6668  \n",
       "2  $36152340.34    2003-09-12   united states      7513  \n",
       "3   $8928350.04    2006-05-08  united kingdom      6544  \n",
       "4  $33552742.32    1973-01-21  united kingdom     18704  "
      ]
     },
     "execution_count": 13,
     "metadata": {},
     "output_type": "execute_result"
    }
   ],
   "source": [
    "df_income['date_measured'] = pd.to_datetime(df_income['date_measured'], format='%d-%m-%Y')\n",
    "\n",
    "df_income['days_ago'] = (pd.Timestamp.now() - df_income['date_measured']).dt.days\n",
    "df_income.head()"
   ]
  },
  {
   "cell_type": "code",
   "execution_count": null,
   "metadata": {},
   "outputs": [],
   "source": []
  },
  {
   "cell_type": "code",
   "execution_count": null,
   "metadata": {},
   "outputs": [],
   "source": []
  }
 ],
 "metadata": {
  "colab": {
   "provenance": []
  },
  "kernelspec": {
   "display_name": "Python 3 (ipykernel)",
   "language": "python",
   "name": "python3"
  },
  "language_info": {
   "codemirror_mode": {
    "name": "ipython",
    "version": 3
   },
   "file_extension": ".py",
   "mimetype": "text/x-python",
   "name": "python",
   "nbconvert_exporter": "python",
   "pygments_lexer": "ipython3",
   "version": "3.12.0"
  },
  "vscode": {
   "interpreter": {
    "hash": "63d17dc58a06b6a6d4136fb13c245dafcf53668da37b1c3052c24d689135f5bb"
   }
  }
 },
 "nbformat": 4,
 "nbformat_minor": 4
}
